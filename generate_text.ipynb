{
 "cells": [
  {
   "cell_type": "code",
   "execution_count": 3,
   "metadata": {
    "scrolled": false
   },
   "outputs": [],
   "source": [
    "import numpy as np\n",
    "from keras.models import Sequential\n",
    "from keras.layers import Dense, LSTM, Dropout\n",
    "from keras.models import load_model\n",
    "from keras.utils import np_utils\n"
   ]
  },
  {
   "cell_type": "code",
   "execution_count": 4,
   "metadata": {},
   "outputs": [
    {
     "name": "stdout",
     "output_type": "stream",
     "text": [
      "Length of the data: 12142\n"
     ]
    }
   ],
   "source": [
    "# Read file - wonderland.txt\n",
    "filename = 'wonderland.txt'\n",
    "data = open(filename, 'r')\n",
    "data = data.read().lower()\n",
    "print(\"Length of the data: \" + str(len(data)))"
   ]
  },
  {
   "cell_type": "code",
   "execution_count": 5,
   "metadata": {},
   "outputs": [
    {
     "name": "stdout",
     "output_type": "stream",
     "text": [
      "Number of unique charaters in the data: 51\n"
     ]
    }
   ],
   "source": [
    "# Find unique characters in the data\n",
    "chars = sorted(list(set(data)))\n",
    "print(\"Number of unique charaters in the data: \" + str(len(chars)))"
   ]
  },
  {
   "cell_type": "code",
   "execution_count": 6,
   "metadata": {},
   "outputs": [
    {
     "name": "stdout",
     "output_type": "stream",
     "text": [
      "{'\\n': 0, ' ': 1, '!': 2, '\"': 3, '#': 4, \"'\": 5, '(': 6, ')': 7, '*': 8, ',': 9, '-': 10, '.': 11, '0': 12, '1': 13, '2': 14, '3': 15, '4': 16, '5': 17, '8': 18, '9': 19, ':': 20, ';': 21, '?': 22, '[': 23, ']': 24, 'a': 25, 'b': 26, 'c': 27, 'd': 28, 'e': 29, 'f': 30, 'g': 31, 'h': 32, 'i': 33, 'j': 34, 'k': 35, 'l': 36, 'm': 37, 'n': 38, 'o': 39, 'p': 40, 'q': 41, 'r': 42, 's': 43, 't': 44, 'u': 45, 'v': 46, 'w': 47, 'x': 48, 'y': 49, 'z': 50}\n"
     ]
    }
   ],
   "source": [
    "# Map characters to integers\n",
    "char_to_integer = []\n",
    "for integer, char in enumerate(chars):\n",
    "    char_to_integer.append((char, integer))\n",
    "char_to_integer = dict(char_to_integer)\n",
    "print(char_to_integer)"
   ]
  },
  {
   "cell_type": "code",
   "execution_count": 7,
   "metadata": {},
   "outputs": [
    {
     "name": "stdout",
     "output_type": "stream",
     "text": [
      "{0: '\\n', 1: ' ', 2: '!', 3: '\"', 4: '#', 5: \"'\", 6: '(', 7: ')', 8: '*', 9: ',', 10: '-', 11: '.', 12: '0', 13: '1', 14: '2', 15: '3', 16: '4', 17: '5', 18: '8', 19: '9', 20: ':', 21: ';', 22: '?', 23: '[', 24: ']', 25: 'a', 26: 'b', 27: 'c', 28: 'd', 29: 'e', 30: 'f', 31: 'g', 32: 'h', 33: 'i', 34: 'j', 35: 'k', 36: 'l', 37: 'm', 38: 'n', 39: 'o', 40: 'p', 41: 'q', 42: 'r', 43: 's', 44: 't', 45: 'u', 46: 'v', 47: 'w', 48: 'x', 49: 'y', 50: 'z'}\n"
     ]
    }
   ],
   "source": [
    "# map integers to characters\n",
    "integer_to_char = []\n",
    "for integer, char in enumerate(chars):\n",
    "    integer_to_char.append((integer, char))\n",
    "integer_to_char = dict(integer_to_char)\n",
    "print(integer_to_char)"
   ]
  },
  {
   "cell_type": "code",
   "execution_count": 8,
   "metadata": {},
   "outputs": [],
   "source": [
    "# Convert X(sequence) and y(one character) into integers\n",
    "X_train = []\n",
    "y_train = []\n",
    "length_of_sequence = 100\n",
    "for i in range(0, (len(data) - length_of_sequence)):\n",
    "    sequence = data[i:i+length_of_sequence]\n",
    "    sequence_int = []\n",
    "    for char in sequence:\n",
    "        sequence_int.append(char_to_integer[char])\n",
    "    X_train.append(sequence_int)    \n",
    "    label = data[i+length_of_sequence]\n",
    "    y_train.append(char_to_integer[label])"
   ]
  },
  {
   "cell_type": "code",
   "execution_count": 9,
   "metadata": {},
   "outputs": [
    {
     "name": "stdout",
     "output_type": "stream",
     "text": [
      "(12042, 100, 1)\n"
     ]
    }
   ],
   "source": [
    "# Reshape X_train and normalize\n",
    "samples = len(X_train)\n",
    "X = np.reshape(X_train, (samples, length_of_sequence, 1)) \n",
    "X = X/float(len(chars))\n",
    "print(X.shape)"
   ]
  },
  {
   "cell_type": "code",
   "execution_count": 10,
   "metadata": {},
   "outputs": [
    {
     "name": "stdout",
     "output_type": "stream",
     "text": [
      "(12042, 51)\n"
     ]
    }
   ],
   "source": [
    "# y_train: Integers to one hot vectors\n",
    "y_train = np_utils.to_categorical(y_train)\n",
    "print(y_train.shape)"
   ]
  },
  {
   "cell_type": "code",
   "execution_count": 11,
   "metadata": {},
   "outputs": [
    {
     "name": "stdout",
     "output_type": "stream",
     "text": [
      "_________________________________________________________________\n",
      "Layer (type)                 Output Shape              Param #   \n",
      "=================================================================\n",
      "lstm_3 (LSTM)                (None, 256)               264192    \n",
      "_________________________________________________________________\n",
      "dropout_3 (Dropout)          (None, 256)               0         \n",
      "_________________________________________________________________\n",
      "dense_3 (Dense)              (None, 51)                13107     \n",
      "=================================================================\n",
      "Total params: 277,299\n",
      "Trainable params: 277,299\n",
      "Non-trainable params: 0\n",
      "_________________________________________________________________\n",
      "None\n"
     ]
    }
   ],
   "source": [
    "# Model\n",
    "model = Sequential()\n",
    "model.add(LSTM(256, input_shape = (X.shape[1], X.shape[2])))\n",
    "model.add(Dropout(0.2))\n",
    "model.add(Dense(y_train.shape[1], activation = 'softmax'))\n",
    "print(model.summary())"
   ]
  },
  {
   "cell_type": "code",
   "execution_count": 1,
   "metadata": {},
   "outputs": [],
   "source": [
    "# Load model weights\n",
    "filename = 'model_weights_LSTM.h5'\n",
    "model = load_model(filename)\n",
    "model.compile(loss = 'categorical_crossentropy', optimizer = 'adam', metrics = ['accuracy'])\n",
    "\n",
    "random_number = np.random.randint(0, len(X)-1)\n",
    "input_sequence = X_train[random_number]\n",
    "print(input_sequence)"
   ]
  },
  {
   "cell_type": "code",
   "execution_count": null,
   "metadata": {},
   "outputs": [],
   "source": [
    "# Prints the input_sequence in string format\n",
    "input_sequence_char = []\n",
    "for x in input_sequence:\n",
    "    input_sequence_char.append(integer_to_char[x])\n",
    "print(''.join(input_sequence_char))\n",
    "print(len(input_sequence))\n",
    "\n",
    "output = []\n",
    "output += input_sequence\n",
    "for i in range(1000):\n",
    "    x = np.reshape(input_sequence, (1, len(input_sequence), 1))\n",
    "    x = x/float(len(chars))\n",
    "    y_pred = model.predict(x, verbose=0)\n",
    "    # print(y_pred)\n",
    "    # print(y_pred.shape)\n",
    "    index = np.argmax(y_pred)\n",
    "    output.append(index)\n",
    "    y_char = integer_to_char[index]\n",
    "    # print(index, y_char)\n",
    "    # print(input_sequence)\n",
    "    input_sequence.append(index)\n",
    "    input_sequence = input_sequence[1:]\n",
    "    # print(input_sequence)\n",
    "output = ''.join([integer_to_char[integer] for integer in output])\n",
    "print(output)"
   ]
  }
 ],
 "metadata": {
  "kernelspec": {
   "display_name": "Python 3",
   "language": "python",
   "name": "python3"
  },
  "language_info": {
   "codemirror_mode": {
    "name": "ipython",
    "version": 3
   },
   "file_extension": ".py",
   "mimetype": "text/x-python",
   "name": "python",
   "nbconvert_exporter": "python",
   "pygments_lexer": "ipython3",
   "version": "3.6.7"
  }
 },
 "nbformat": 4,
 "nbformat_minor": 2
}
